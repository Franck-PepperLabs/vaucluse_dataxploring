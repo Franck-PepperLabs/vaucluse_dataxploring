{
 "cells": [
  {
   "attachments": {},
   "cell_type": "markdown",
   "metadata": {},
   "source": [
    "# 12/12/2022 Amorce (6,00)\n",
    "\n",
    "Démarrage de l'exploration de https://www.data.gouv.fr et de https://www.datasud.fr\n",
    "\n",
    "Création des comptes\n",
    "\n",
    "Premier contact avec le système\n",
    "\n",
    "Recherche plus ou moins ciblées\n",
    "\n",
    "Recherches par le haut (référentiels nationaux) sur les institutions et les élus (RNE).\n",
    "\n",
    "# 14/12/2022 dérivation des tables de collectivités et circonscriptions administratives\n",
    "\n",
    "Jusqu'au cas des conseillers communautaires (1 272 EPCI)"
   ]
  }
 ],
 "metadata": {
  "kernelspec": {
   "display_name": "base",
   "language": "python",
   "name": "python3"
  },
  "language_info": {
   "name": "python",
   "version": "3.9.12 (main, Apr  4 2022, 05:22:27) [MSC v.1916 64 bit (AMD64)]"
  },
  "orig_nbformat": 4,
  "vscode": {
   "interpreter": {
    "hash": "e03b612d84ba21ce95ed447e81b3062e1eb99b56c6d885cdab4aaa12f1b8e240"
   }
  }
 },
 "nbformat": 4,
 "nbformat_minor": 2
}
