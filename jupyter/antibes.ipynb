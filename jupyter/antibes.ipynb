{
 "cells": [
  {
   "cell_type": "markdown",
   "metadata": {},
   "source": [
    "Antibes semble être la ville exemplaire en termes de transparence.\n",
    "\n",
    "Si elle donne le la, c'est elle qu'il faut suivre.\n",
    "\n",
    "151 jeux de données sur DataSud : https://trouver.datasud.fr/organization/ville-dantibes-juan-les-pins\n",
    "\n",
    "https://www.antibes-juanlespins.com/administration/open-data\n",
    "\n",
    "Partir de là : Catalogue des jeux de données publiés en open data par la Ville d'Antibes \n",
    "https://trouver.datasud.fr/dataset/catalogue-des-donnees-de-la-ville-antibes-juan-les-pins\n"
   ]
  }
 ],
 "metadata": {
  "kernelspec": {
   "display_name": "Python 3.9.12 ('base')",
   "language": "python",
   "name": "python3"
  },
  "language_info": {
   "name": "python",
   "version": "3.9.12 (main, Apr  4 2022, 05:22:27) [MSC v.1916 64 bit (AMD64)]"
  },
  "orig_nbformat": 4,
  "vscode": {
   "interpreter": {
    "hash": "e03b612d84ba21ce95ed447e81b3062e1eb99b56c6d885cdab4aaa12f1b8e240"
   }
  }
 },
 "nbformat": 4,
 "nbformat_minor": 2
}
